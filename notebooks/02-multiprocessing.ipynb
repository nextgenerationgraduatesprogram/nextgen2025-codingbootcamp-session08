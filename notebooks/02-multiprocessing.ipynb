{
 "cells": [
  {
   "cell_type": "markdown",
   "metadata": {},
   "source": [
    "# Python Multiprocessing\n",
    "\n",
    "Multiprocessing in Python allows us to execute multiple processes in parallel, enabling us to leverage multiple CPU cores on a single machine to parallelize our code. Whilst distributed computation in general is a complicated and nuanced subject particularly when we begin to consider interprocess communications or even inter-machine communications on distributed systems, it doesn't mean we can't use and benefit from it.\n",
    "\n",
    "### Processes vs. Threads\n",
    "A `Process` is an individual execution of code within a PVM and has it's own memory space. A `Thread` on the other hand shares memory with other threads and runs on the same process. Each of these will have its own benefits, generally multiprocessing is good for CPU bound tasks whilst multithreading is good for I/O bound tasks.\n",
    "\n",
    "Specifically this is because the global interpreter lock of Python restricts code execution to one thread at a time within the Python virtual machine which limits threading for CPU bound tasks, but multiprocessing bypasses this issue."
   ]
  },
  {
   "cell_type": "markdown",
   "metadata": {},
   "source": [
    "## Sequential Execution\n",
    "\n",
    "Let's take a look at an example of some code which might benefit from parallelization."
   ]
  },
  {
   "cell_type": "code",
   "execution_count": 2,
   "metadata": {},
   "outputs": [
    {
     "name": "stdout",
     "output_type": "stream",
     "text": [
      "[1, 2, 3, 4, 5] -> job -> [1, 4, 9, 16, 25]\n"
     ]
    }
   ],
   "source": [
    "import time\n",
    "\n",
    "def job_with_fixed_execution_time(x: int):\n",
    "    \"\"\"\n",
    "    execution time is a fixed 1.0s\n",
    "    \"\"\"\n",
    "    time.sleep(1)\n",
    "    return x ** 2\n",
    "\n",
    "\n",
    "inputs = [1, 2, 3, 4, 5]\n",
    "outputs = []\n",
    "\n",
    "for val in inputs:\n",
    "    # does this computation depend on the other values though?\n",
    "    output = job_with_fixed_execution_time(val)\n",
    "    outputs.append(output)\n",
    "\n",
    "print(f\"{inputs} -> job -> {outputs}\")"
   ]
  },
  {
   "cell_type": "markdown",
   "metadata": {},
   "source": [
    "## Parallel Execution\n",
    "\n",
    "Performing the computation of `job_with_fixed_execution_time` doesn't depend on the other inputs, this makes it a good candidate for parallelization.\n",
    "\n",
    "Examples of other good candidates would be processing regions in geospatial data, videos in computer vision data, etc."
   ]
  },
  {
   "cell_type": "code",
   "execution_count": 4,
   "metadata": {},
   "outputs": [
    {
     "name": "stdout",
     "output_type": "stream",
     "text": [
      "Execution Time: 0.515 seconds\n",
      "range(0, 12) -> job -> [0, 1, 4, 9, 16, 25, 36, 49, 64, 81, 100, 121]\n",
      "`map` execution took 2.095 s\n",
      "\n"
     ]
    }
   ],
   "source": [
    "!python ../scripts/03-multiprocessing.py"
   ]
  },
  {
   "cell_type": "code",
   "execution_count": null,
   "metadata": {},
   "outputs": [],
   "source": [
    "# discuss mapping via. the scripts\n",
    "import multiprocessing as mp\n",
    "\n",
    "with mp.Pool(processes=mp.cpu_count()) as pool:\n",
    "    # give jobs to pool\n",
    "    outputs = pool.map(\n",
    "        job_with_fixed_execution_time,\n",
    "        [1, 2, 3]\n",
    "    )\n"
   ]
  },
  {
   "cell_type": "markdown",
   "metadata": {},
   "source": [
    "### Mapping\n",
    "\n",
    "Mapping refers to the process of applying a function to multiple inputs in parallel within a pool of processes. We have multiple different variants of mapping such as `map_async`, `starmap`, `starmap_async`, `imap`, etc. each of which handly slightly different use cases."
   ]
  },
  {
   "cell_type": "code",
   "execution_count": 3,
   "metadata": {},
   "outputs": [],
   "source": [
    "# lets look at 01-multiprocessing.py"
   ]
  },
  {
   "cell_type": "markdown",
   "metadata": {},
   "source": [
    "We can increase the number of process to increase the pool of workers available for the inputs to be mapped to. As a given process finishes executing its `job` it's provided the next input to start working on. "
   ]
  },
  {
   "cell_type": "markdown",
   "metadata": {},
   "source": [
    "## Inter-process Communication\n",
    "\n"
   ]
  },
  {
   "cell_type": "code",
   "execution_count": null,
   "metadata": {},
   "outputs": [],
   "source": []
  },
  {
   "cell_type": "markdown",
   "metadata": {},
   "source": [
    "## Limitations\n",
    "\n",
    "`multiprocessing` is only suitable for parallelization on a single machine with potentially multiple CPUs, in this scenario you are limited in the resources that you can use. You can also implement communication between processes if you need you computation to do this such as in fluid simulations where you want to run a bunch of solvers at once in individual cells and then gather the results and have them interact before the next timestep.\n",
    "\n",
    "Often in high-performance computing environments we want to leverage multiple CPUs across multiple machines (or nodes), to do this we often need our machines to be able to talk to each other and communicate their data, this can be achieved through software such as MPI (message passing interface) like OpenMPI or MPICH, alongside Python libraries like `mpi4py`."
   ]
  },
  {
   "cell_type": "code",
   "execution_count": 13,
   "metadata": {},
   "outputs": [
    {
     "data": {
      "text/plain": [
       "(1, 2)"
      ]
     },
     "execution_count": 13,
     "metadata": {},
     "output_type": "execute_result"
    }
   ],
   "source": [
    "# def func(x, y):\n",
    "#     return (x, y)\n",
    "\n",
    "# # func(y=2, x=1)\n",
    "\n",
    "# x = 1\n",
    "# y = 2\n",
    "# cfg = {\n",
    "#     \"x\":1,\n",
    "#     \"y\": 2\n",
    "# }\n",
    "\n",
    "# func(x=cfg[\"x\"], y=cfg[\"y\"])\n",
    "# func(**cfg)\n",
    "\n",
    "# # func(**{\"x\": 1, \"y\": 2})"
   ]
  },
  {
   "cell_type": "code",
   "execution_count": null,
   "metadata": {},
   "outputs": [],
   "source": []
  },
  {
   "cell_type": "code",
   "execution_count": null,
   "metadata": {},
   "outputs": [],
   "source": []
  },
  {
   "cell_type": "code",
   "execution_count": null,
   "metadata": {},
   "outputs": [],
   "source": []
  }
 ],
 "metadata": {
  "kernelspec": {
   "display_name": ".venv",
   "language": "python",
   "name": "python3"
  },
  "language_info": {
   "codemirror_mode": {
    "name": "ipython",
    "version": 3
   },
   "file_extension": ".py",
   "mimetype": "text/x-python",
   "name": "python",
   "nbconvert_exporter": "python",
   "pygments_lexer": "ipython3",
   "version": "3.12.7"
  }
 },
 "nbformat": 4,
 "nbformat_minor": 2
}
