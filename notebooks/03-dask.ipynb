{
 "cells": [
  {
   "cell_type": "markdown",
   "metadata": {},
   "source": [
    "# Dask\n",
    "\n",
    "`dask` is a parallel computing library that scales from single machines to clusters and offers a high-level interfaces making it ideal for simplifying the distribution of computations. We will cover some of the functionality for using it on a single machine, setting up `dask` for multi-node execution is out of scope."
   ]
  },
  {
   "cell_type": "markdown",
   "metadata": {},
   "source": [
    "## Parallel Computation"
   ]
  },
  {
   "cell_type": "code",
   "execution_count": null,
   "metadata": {},
   "outputs": [],
   "source": [
    "import dask\n",
    "import time\n",
    "\n",
    "def slow_function(x):\n",
    "    time.sleep(1)  # Simulate a slow computation\n",
    "    return x * x\n",
    "\n",
    "# Create delayed objects (does not execute immediately)\n",
    "delayed_results = [dask.delayed(slow_function)(i) for i in range(5)]\n",
    "\n",
    "# Compute all tasks in parallel\n",
    "results = dask.compute(*delayed_results)\n",
    "\n",
    "print(results)  # Output: (0, 1, 4, 9, 16)"
   ]
  },
  {
   "cell_type": "markdown",
   "metadata": {},
   "source": [
    "## Parallel Arrays\n",
    "\n",
    "`dask` also provides functionality to handle array which would otherwise not fit into memory i.e. memory-bound by chunking the data, allowing us to perform computations we would otherwise not be able to do."
   ]
  },
  {
   "cell_type": "code",
   "execution_count": null,
   "metadata": {},
   "outputs": [],
   "source": [
    "import time\n",
    "import numpy as np\n",
    "\n",
    "# create a large array as a contiguous array : 10,000 x 10,000 array\n",
    "sz = 10000\n",
    "x = np.random.randn(sz,sz)\n",
    "\n",
    "# comptue the mean value\n",
    "t = time.perf_counter_ns()\n",
    "mu = x.mean()\n",
    "t = time.perf_counter_ns() - t\n",
    "\n",
    "print(f\"computation took {t/1e9:.3f} s\")"
   ]
  },
  {
   "cell_type": "code",
   "execution_count": null,
   "metadata": {},
   "outputs": [],
   "source": [
    "import dask.array as da\n",
    "\n",
    "# Create a large  (chunked into smaller parts)\n",
    "x = da.random.random((sz, sz), chunks=(sz//10, sz//10))\n",
    "\n",
    "# Compute the mean (parallelized across chunks)\n",
    "t = time.perf_counter_ns()\n",
    "mu = x.mean().compute()\n",
    "t = time.perf_counter_ns() - t\n",
    "\n",
    "print(f\"computation took {t/1e9:.3f} s\")"
   ]
  },
  {
   "cell_type": "markdown",
   "metadata": {},
   "source": [
    "## Parallel DataFrames\n",
    "\n",
    "Provides a parallel interface to `pandas` to enable memory-bound processing of data."
   ]
  },
  {
   "cell_type": "code",
   "execution_count": null,
   "metadata": {},
   "outputs": [],
   "source": [
    "import dask.dataframe as dd\n",
    "\n",
    "# Read a large CSV file in parallel\n",
    "df = dd.read_csv(\"../data/huge_file.csv\")\n",
    "\n",
    "# Perform operations (Dask optimizes execution)\n",
    "result = df.transaction_value.sum().compute()\n",
    "\n",
    "print(result)"
   ]
  },
  {
   "cell_type": "code",
   "execution_count": null,
   "metadata": {},
   "outputs": [],
   "source": [
    "# Perform operations (Dask optimizes execution)\n",
    "result = df.groupby(\"user\").transaction_value.sum().compute()\n",
    "\n",
    "print(result)"
   ]
  },
  {
   "cell_type": "markdown",
   "metadata": {},
   "source": []
  }
 ],
 "metadata": {
  "kernelspec": {
   "display_name": ".venv",
   "language": "python",
   "name": "python3"
  },
  "language_info": {
   "codemirror_mode": {
    "name": "ipython",
    "version": 3
   },
   "file_extension": ".py",
   "mimetype": "text/x-python",
   "name": "python",
   "nbconvert_exporter": "python",
   "pygments_lexer": "ipython3",
   "version": "3.12.7"
  }
 },
 "nbformat": 4,
 "nbformat_minor": 2
}
