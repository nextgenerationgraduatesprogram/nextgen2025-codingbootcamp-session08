{
 "cells": [
  {
   "cell_type": "markdown",
   "metadata": {},
   "source": [
    "# Profiling\n",
    "\n",
    "Profiling our code is a crucial step to determining where the bottlenecks in our code are in order to figure out what tools we can use to speed up the code. There are several existing libraries we can use to achieve this, `cProfile` is good for high-level profiling, `line_profiler` is good for profiling specific lines of code, `memory_profiler` is good for tracking memory usage, `timeit` is good for evaluating specific lines in isolation."
   ]
  },
  {
   "cell_type": "markdown",
   "metadata": {},
   "source": [
    "## cProfile"
   ]
  },
  {
   "cell_type": "code",
   "execution_count": null,
   "metadata": {},
   "outputs": [],
   "source": [
    "!python -m cProfile -s time ../scripts/01-time-profiling.py"
   ]
  },
  {
   "cell_type": "markdown",
   "metadata": {},
   "source": [
    "### memory_profiler"
   ]
  },
  {
   "cell_type": "code",
   "execution_count": null,
   "metadata": {},
   "outputs": [],
   "source": [
    "!python -m cProfile -s time ../scripts/02-memory-profiling.py"
   ]
  },
  {
   "cell_type": "markdown",
   "metadata": {},
   "source": [
    "## timeit"
   ]
  },
  {
   "cell_type": "code",
   "execution_count": null,
   "metadata": {},
   "outputs": [],
   "source": [
    "import time\n",
    "import timeit\n",
    "\n",
    "def job_with_fixed_execution_time(x: int):\n",
    "    \"\"\"\n",
    "    execution time is a fixed 1.0s\n",
    "    \"\"\"\n",
    "    time.sleep(0.1)\n",
    "    return x ** 2\n",
    "\n",
    "execution_time = timeit.timeit(lambda: job_with_fixed_execution_time(10), number=10)\n",
    "print(f\"Execution Time: {execution_time:.3f} seconds\")"
   ]
  },
  {
   "cell_type": "markdown",
   "metadata": {},
   "source": [
    "# PyTorch Profiler\n",
    "\n",
    "If you're in the business of debugging models designed using PyTorch their profiling provides excellent insights into timing and memory consumption of the models functions, particularly when enabling tracing functionality.\n",
    "\n",
    "https://pytorch.org/tutorials/recipes/recipes/profiler_recipe.html"
   ]
  },
  {
   "cell_type": "markdown",
   "metadata": {},
   "source": []
  }
 ],
 "metadata": {
  "kernelspec": {
   "display_name": ".venv",
   "language": "python",
   "name": "python3"
  },
  "language_info": {
   "codemirror_mode": {
    "name": "ipython",
    "version": 3
   },
   "file_extension": ".py",
   "mimetype": "text/x-python",
   "name": "python",
   "nbconvert_exporter": "python",
   "pygments_lexer": "ipython3",
   "version": "3.12.7"
  }
 },
 "nbformat": 4,
 "nbformat_minor": 2
}
